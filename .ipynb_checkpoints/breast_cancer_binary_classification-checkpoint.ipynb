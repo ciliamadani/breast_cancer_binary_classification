{
 "cells": [
  {
   "cell_type": "code",
   "execution_count": 100,
   "metadata": {},
   "outputs": [],
   "source": [
    "import numpy as np\n",
    "import pandas as pd\n",
    "import matplotlib.pyplot as plt\n",
    "from sklearn.metrics import accuracy_score\n",
    "from sklearn.model_selection import train_test_split\n",
    "\n",
    "%matplotlib inline"
   ]
  },
  {
   "cell_type": "markdown",
   "metadata": {},
   "source": [
    "## Overview of the problem set "
   ]
  },
  {
   "cell_type": "code",
   "execution_count": 193,
   "metadata": {},
   "outputs": [],
   "source": [
    "from sklearn.datasets import load_breast_cancer\n",
    "data = load_breast_cancer()"
   ]
  },
  {
   "cell_type": "code",
   "execution_count": 194,
   "metadata": {},
   "outputs": [
    {
     "data": {
      "text/plain": [
       "array(['mean radius', 'mean texture', 'mean perimeter', 'mean area',\n",
       "       'mean smoothness', 'mean compactness', 'mean concavity',\n",
       "       'mean concave points', 'mean symmetry', 'mean fractal dimension',\n",
       "       'radius error', 'texture error', 'perimeter error', 'area error',\n",
       "       'smoothness error', 'compactness error', 'concavity error',\n",
       "       'concave points error', 'symmetry error',\n",
       "       'fractal dimension error', 'worst radius', 'worst texture',\n",
       "       'worst perimeter', 'worst area', 'worst smoothness',\n",
       "       'worst compactness', 'worst concavity', 'worst concave points',\n",
       "       'worst symmetry', 'worst fractal dimension'], dtype='<U23')"
      ]
     },
     "execution_count": 194,
     "metadata": {},
     "output_type": "execute_result"
    }
   ],
   "source": [
    "data.feature_names"
   ]
  },
  {
   "cell_type": "code",
   "execution_count": 195,
   "metadata": {},
   "outputs": [
    {
     "data": {
      "text/plain": [
       "array(['malignant', 'benign'], dtype='<U9')"
      ]
     },
     "execution_count": 195,
     "metadata": {},
     "output_type": "execute_result"
    }
   ],
   "source": [
    "data.target_names"
   ]
  },
  {
   "cell_type": "code",
   "execution_count": 196,
   "metadata": {},
   "outputs": [
    {
     "data": {
      "text/plain": [
       "(569, 30)"
      ]
     },
     "execution_count": 196,
     "metadata": {},
     "output_type": "execute_result"
    }
   ],
   "source": [
    "data.data.shape"
   ]
  },
  {
   "cell_type": "code",
   "execution_count": 249,
   "metadata": {},
   "outputs": [
    {
     "data": {
      "text/plain": [
       "array([10.38, 17.77, 21.25, 20.38, 14.34, 15.7 , 19.98, 20.83, 21.82,\n",
       "       24.04, 23.24, 17.89, 24.8 , 23.95, 22.61, 27.54, 20.13, 20.68,\n",
       "       22.15, 14.36, 15.71, 12.44, 14.26, 23.04, 21.38, 16.4 , 21.53,\n",
       "       20.25, 25.27, 15.05, 25.11, 18.7 , 23.98, 26.47, 17.88, 21.59,\n",
       "       21.72, 18.42, 25.2 , 20.82, 21.58, 21.35, 24.81, 20.28, 21.81,\n",
       "       17.6 , 16.84, 18.66, 14.63, 22.3 , 21.6 , 16.34, 18.24, 18.7 ,\n",
       "       22.02, 18.75, 18.57, 21.59, 19.31, 11.79, 14.88, 20.98, 22.15,\n",
       "       13.86, 23.84, 23.94, 21.01, 19.04, 17.33, 16.49, 21.31, 14.64,\n",
       "       24.52, 15.79, 16.52, 19.65, 10.94, 16.15, 23.97, 18.  , 20.97,\n",
       "       15.86, 24.91, 26.29, 15.65, 18.52, 21.46, 24.59, 21.8 , 15.24,\n",
       "       24.02, 22.76, 14.76, 18.3 , 19.83, 23.03, 17.84, 19.94, 12.84,\n",
       "       19.77, 24.98, 13.43, 20.52, 19.4 , 19.29, 15.56, 18.33, 18.54,\n",
       "       19.67, 21.26, 16.99, 20.76, 19.65, 20.19, 15.83, 21.53, 15.76,\n",
       "       16.67, 22.91, 20.01, 10.82, 17.12, 20.2 , 10.89, 16.39, 17.21,\n",
       "       24.69, 18.91, 16.39, 25.12, 13.29, 19.48, 21.54, 13.93, 21.91,\n",
       "       22.47, 16.67, 15.39, 17.57, 13.39, 11.97, 18.05, 17.31, 15.92,\n",
       "       14.97, 14.65, 16.58, 18.77, 15.18, 17.91, 20.78, 20.7 , 15.34,\n",
       "       13.08, 15.34, 17.94, 20.74, 19.46, 12.74, 12.96, 20.18, 15.94,\n",
       "       18.15, 22.22, 22.04, 19.76,  9.71, 18.8 , 24.68, 16.95, 12.39,\n",
       "       19.63, 11.89, 14.71, 15.15, 14.45, 18.06, 20.11, 22.22, 13.06,\n",
       "       21.87, 26.57, 20.31, 14.92, 22.41, 15.11, 18.58, 17.19, 17.39,\n",
       "       15.9 , 23.12, 21.41, 18.22, 26.86, 23.21, 16.33, 22.29, 21.84,\n",
       "       22.49, 20.22, 19.56, 19.32, 26.67, 23.75, 18.6 , 16.68, 17.27,\n",
       "       20.26, 22.54, 12.91, 22.14, 18.94, 18.47, 25.56, 23.81, 16.93,\n",
       "       18.35, 17.48, 21.56, 32.47, 13.16, 13.9 , 17.53, 20.25, 17.02,\n",
       "       13.47, 15.46, 15.51, 23.97, 22.33, 19.08, 27.08, 33.81, 27.81,\n",
       "       15.91, 21.25, 26.97, 21.46, 27.85, 39.28, 15.6 , 15.04, 18.19,\n",
       "       23.77, 23.5 , 19.86, 17.43, 14.11, 25.22, 14.93, 23.56, 18.45,\n",
       "       19.82, 17.08, 19.33, 17.05, 28.77, 17.27, 23.2 , 33.56, 27.06,\n",
       "       23.06, 22.13, 19.38, 22.07, 31.12, 18.95, 21.84, 16.21, 20.39,\n",
       "       16.82, 13.04, 20.99, 15.67, 24.48, 17.36, 14.16, 19.98, 17.84,\n",
       "       15.18, 26.6 , 14.02, 18.18, 18.77, 15.7 , 18.4 , 20.76, 13.12,\n",
       "       19.96, 18.89, 19.73, 19.1 , 16.02, 17.46, 13.78, 13.27, 12.35,\n",
       "       18.14, 18.17, 23.09, 18.9 , 19.89, 23.86, 18.61, 18.16, 24.49,\n",
       "       15.82, 14.4 , 12.71, 13.84, 19.11, 15.69, 13.37, 10.72, 18.6 ,\n",
       "       16.85, 14.08, 18.87, 18.9 , 17.  , 16.18, 19.66, 13.32, 21.51,\n",
       "       15.21, 17.3 , 12.88, 17.93, 20.71, 21.88, 15.51, 19.35, 19.86,\n",
       "       14.78, 19.02, 21.  , 14.23, 21.43, 17.53, 24.27, 16.54, 16.84,\n",
       "       14.96, 21.68, 15.45, 14.71, 18.9 , 14.74, 16.03, 14.96, 17.07,\n",
       "       19.22, 17.46, 25.74, 14.07, 19.07, 18.59, 16.21, 15.49, 18.32,\n",
       "       18.07, 21.57, 18.84, 18.29, 16.95, 21.78, 26.83, 18.02, 17.25,\n",
       "       21.9 , 23.29, 13.21, 15.1 , 17.35, 16.07, 16.07, 20.22, 28.21,\n",
       "       15.15, 18.83, 12.96, 14.93, 22.72, 17.48, 13.72, 23.29, 14.09,\n",
       "       16.16, 15.5 , 23.21, 12.22, 16.84, 19.97, 22.28, 17.72, 17.18,\n",
       "       18.89, 17.46, 14.83, 17.26, 21.02, 10.91, 18.29, 16.17, 14.95,\n",
       "       18.59, 14.86, 21.37, 20.66, 17.92, 17.57, 16.83, 21.68, 22.11,\n",
       "       29.81, 21.17, 21.7 , 21.08, 12.17, 21.41, 19.04, 13.98, 16.02,\n",
       "       19.13, 19.12, 21.28, 14.98, 21.98, 16.62, 17.67, 22.53, 17.68,\n",
       "       19.54, 21.97, 16.94, 19.62, 19.54, 15.98, 19.6 , 15.66, 17.2 ,\n",
       "       25.42, 15.79, 18.32, 16.85, 24.89, 28.03, 17.66, 19.34, 20.52,\n",
       "       21.54, 25.  , 28.23, 13.98, 17.15, 30.72, 29.29, 25.25, 25.13,\n",
       "       28.2 , 27.15, 26.27, 26.99, 18.36, 18.22, 20.13, 20.74, 18.1 ,\n",
       "       23.33, 18.18, 18.49, 28.14, 14.93, 29.97, 15.62, 15.73, 20.53,\n",
       "       16.62, 14.59, 19.51, 18.03, 19.24, 14.06, 17.64, 11.28, 16.41,\n",
       "       16.85, 18.82, 16.17, 20.2 , 22.44, 13.23, 20.56, 12.83, 20.54,\n",
       "       20.21, 18.17, 17.31, 17.52, 21.24, 16.74, 24.49, 16.32, 19.83,\n",
       "       12.87, 13.14, 20.04, 17.12, 15.7 , 23.95, 14.69, 14.7 , 20.52,\n",
       "       13.66, 19.07, 18.61, 20.58, 20.26, 18.22, 16.7 , 13.9 , 21.6 ,\n",
       "       19.83, 18.68, 15.68, 13.1 , 18.75, 12.27, 13.17, 13.44, 17.56,\n",
       "       20.02, 16.33, 20.67, 17.62, 20.86, 22.55, 24.44, 25.49, 25.44,\n",
       "       14.44, 24.99, 25.42, 28.06, 20.7 , 23.23, 16.35, 16.58, 19.34,\n",
       "       24.21, 21.48, 22.44, 29.43, 21.94, 28.92, 27.61, 19.59, 27.88,\n",
       "       22.68, 23.93, 27.15, 29.37, 30.62, 25.09, 22.39, 28.25, 28.08,\n",
       "       29.33, 24.54])"
      ]
     },
     "execution_count": 249,
     "metadata": {},
     "output_type": "execute_result"
    }
   ],
   "source": [
    "data.data[ : ,1]"
   ]
  },
  {
   "cell_type": "markdown",
   "metadata": {},
   "source": [
    "## Normalizaton of features"
   ]
  },
  {
   "cell_type": "raw",
   "metadata": {},
   "source": [
    "def normalize_feat(feat_vect):\n",
    "    mean = np.sum(feat_vect, axis=0)\n",
    "    feat_vect = ( feat_vect - mean ) / (max(feat_vect) - min(feat_vect))\n",
    "    \n",
    "    return feat_vect"
   ]
  },
  {
   "cell_type": "raw",
   "metadata": {},
   "source": [
    "# Test: Normalize the fisrt feature vector \n",
    "normalized_vect = normalize_feat(data.data[ : ,0])"
   ]
  },
  {
   "cell_type": "raw",
   "metadata": {},
   "source": [
    "# Nomalize all features \n",
    "for i in range(len(data.feature_names)):\n",
    "    data.data[ : ,i] = normalize_feat(data.data[ : ,i])\n",
    "    "
   ]
  },
  {
   "cell_type": "code",
   "execution_count": 250,
   "metadata": {},
   "outputs": [
    {
     "name": "stdout",
     "output_type": "stream",
     "text": [
      "(569, 1)\n",
      "[0 0 0 0 0 0 0 0 0 0 0 0 0 0 0 0 0 0 0 1 1 1 0 0 0 0 0 0 0 0 0 0 0 0 0 0 0\n",
      " 1 0 0 0 0 0 0 0 0 1 0 1 1 1 1 1 0 0 1 0 0 1 1 1 1 0 1 0 0 1 1 1 1 0 1 0 0\n",
      " 1 0 1 0 0 1 1 1 0 0 1 0 0 0 1 1 1 0 1 1 0 0 1 1 1 0 0 1 1 1 1 0 1 1 0 1 1\n",
      " 1 1 1 1 1 1 0 0 0 1 0 0 1 1 1 0 0 1 0 1 0 0 1 0 0 1 1 0 1 1 0 1 1 1 1 0 1\n",
      " 1 1 1 1 1 1 1 1 0 1 1 1 1 0 0 1 0 1 1 0 0 1 1 0 0 1 1 1 1 0 1 1 0 0 0 1 0\n",
      " 1 0 1 1 1 0 1 1 0 0 1 0 0 0 0 1 0 0 0 1 0 1 0 1 1 0 1 0 0 0 0 1 1 0 0 1 1\n",
      " 1 0 1 1 1 1 1 0 0 1 1 0 1 1 0 0 1 0 1 1 1 1 0 1 1 1 1 1 0 1 0 0 0 0 0 0 0\n",
      " 0 0 0 0 0 0 0 1 1 1 1 1 1 0 1 0 1 1 0 1 1 0 1 0 0 1 1 1 1 1 1 1 1 1 1 1 1\n",
      " 1 0 1 1 0 1 0 1 1 1 1 1 1 1 1 1 1 1 1 1 1 0 1 1 1 0 1 0 1 1 1 1 0 0 0 1 1\n",
      " 1 1 0 1 0 1 0 1 1 1 0 1 1 1 1 1 1 1 0 0 0 1 1 1 1 1 1 1 1 1 1 1 0 0 1 0 0\n",
      " 0 1 0 0 1 1 1 1 1 0 1 1 1 1 1 0 1 1 1 0 1 1 0 0 1 1 1 1 1 1 0 1 1 1 1 1 1\n",
      " 1 0 1 1 1 1 1 0 1 1 0 1 1 1 1 1 1 1 1 1 1 1 1 0 1 0 0 1 0 1 1 1 1 1 0 1 1\n",
      " 0 1 0 1 1 0 1 0 1 1 1 1 1 1 1 1 0 0 1 1 1 1 1 1 0 1 1 1 1 1 1 1 1 1 1 0 1\n",
      " 1 1 1 1 1 1 0 1 0 1 1 0 1 1 1 1 1 0 0 1 0 1 0 1 1 1 1 1 0 1 1 0 1 0 1 0 0\n",
      " 1 1 1 0 1 1 1 1 1 1 1 1 1 1 1 0 1 0 0 1 1 1 1 1 1 1 1 1 1 1 1 1 1 1 1 1 1\n",
      " 1 1 1 1 1 1 1 0 0 0 0 0 0 1]\n"
     ]
    }
   ],
   "source": [
    "X = data.data[ : ,0]\n",
    "X = X.reshape(569,1)\n",
    "print(X.shape)\n",
    "y = data.target\n",
    "print(y)"
   ]
  },
  {
   "cell_type": "markdown",
   "metadata": {},
   "source": [
    "## General Architecture of the learning algorithm"
   ]
  },
  {
   "cell_type": "markdown",
   "metadata": {},
   "source": [
    "A Logistic Regression, using a Neural Network mindset.\n",
    "\n",
    "For one example $x^{(i)}$: $$z^{(i)} = w^T x^{(i)} + b \\tag{1}$$ $$\\hat{y}^{(i)} = a^{(i)} = sigmoid(z^{(i)})\\tag{2}$$ $$ \\mathcal{L}(a^{(i)}, y^{(i)}) = - y^{(i)} \\log(a^{(i)}) - (1-y^{(i)} ) \\log(1-a^{(i)})\\$$\n",
    "\n",
    "The cost is then computed by summing over all training examples: \n",
    "$$ J = \\frac{1}{m} \\sum_{i=1}^m \\mathcal{L}(a^{(i)}, y^{(i)})\\$$\n",
    "\n",
    "Key steps:\n",
    "\n",
    "- Initialize the parameters of the model\n",
    "- Learn the parameters for the model by minimizing the cost  \n",
    "- Use the learned parameters to make predictions (on the test set)\n",
    "- Analyse the results and conclude\n",
    "\n",
    "The main steps for building a Neural Network:\n",
    "\n",
    "- Define the model structure (such as number of input features)\n",
    "- Initialize the model's parameters\n",
    "- Loop:\n",
    "        * Calculate current loss (forward propagation)\n",
    "        * Calculate current gradient (backward propagation)\n",
    "        * Update parameters (gradient descent)\n"
   ]
  },
  {
   "cell_type": "markdown",
   "metadata": {},
   "source": [
    "## Helper functions"
   ]
  },
  {
   "cell_type": "code",
   "execution_count": 251,
   "metadata": {},
   "outputs": [],
   "source": [
    "def sigmoid(z):\n",
    "    sig = 1 / (1 + np.exp(-z))\n",
    "    return sig"
   ]
  },
  {
   "cell_type": "code",
   "execution_count": 252,
   "metadata": {},
   "outputs": [],
   "source": [
    "def initialize_params(dim):\n",
    "    \n",
    "    w = np.zeros((dim,1))\n",
    "    b = 0\n",
    "    \n",
    "    assert(isinstance(b, float) or isinstance(b, int))\n",
    "    return w,b"
   ]
  },
  {
   "cell_type": "code",
   "execution_count": 258,
   "metadata": {},
   "outputs": [],
   "source": [
    "def propagate(X,y,w,b):\n",
    "    \n",
    "    # forward prop\n",
    "    m = X.shape[1]\n",
    "    # calculate the estimated output with the params \n",
    "    Z = np.dot(w.T,X) + b \n",
    "    # calculate the activation output \n",
    "    A = sigmoid(Z) \n",
    "    epsilon = 0.001\n",
    "    \n",
    "\n",
    "    # negative and zero values \n",
    "    for i in range(A.shape[1]):\n",
    "        if A[0][i]<0 :\n",
    "            A[0][i]= 0.0001\n",
    "        \n",
    "    \n",
    "    # calculate the cost function \n",
    "    cost = (- 1 / m) * np.sum(y * np.log(A) + (1 - y + epsilon) * (np.log(1 - A+ epsilon))) \n",
    "   \n",
    "    \n",
    "    # backward prop\n",
    "    dw = (1/m) * np.dot(X,(A-y).T)\n",
    "    db = (1 / m) * np.sum(A - y)\n",
    "    \n",
    "    assert(db.dtype == float)\n",
    "    cost = np.squeeze(cost)\n",
    "    grads = {\n",
    "     'dw' : dw,\n",
    "     'db' : db\n",
    "    }\n",
    "    \n",
    "    return grads,cost"
   ]
  },
  {
   "cell_type": "code",
   "execution_count": 254,
   "metadata": {},
   "outputs": [],
   "source": [
    "def optimize(w,b,X,y,alpha,num_iterations ,print_cost=True):\n",
    "    \n",
    "    costs = []\n",
    "    \n",
    "    for i in range(num_iterations):\n",
    "        \n",
    "        grads, cost = propagate(X,y,w,b)\n",
    "        \n",
    "        dw = grads[\"dw\"]\n",
    "        db = grads[\"db\"]\n",
    "        \n",
    "        \n",
    "        # update params\n",
    "        w = w - alpha * dw\n",
    "        b = b - alpha * db\n",
    "        \n",
    "        if i % 100 == 0:\n",
    "            costs.append(cost)\n",
    "            \n",
    "    \n",
    "    params = {\n",
    "    'w' : w, \n",
    "    'b' : b\n",
    "    }\n",
    "    \n",
    "    gards = {\n",
    "    'dw' : dw,\n",
    "    'db' : db\n",
    "    }\n",
    "    \n",
    "    return params, grads, costs\n",
    "    "
   ]
  },
  {
   "cell_type": "code",
   "execution_count": 255,
   "metadata": {},
   "outputs": [],
   "source": [
    "def predict(w,b,X):\n",
    "    \n",
    "    m = X.shape[1]\n",
    "    Y_prediction = np.zeros((1, m))    \n",
    "    A = sigmoid(np.dot(w.T, X) + b)\n",
    "    \n",
    "    for i in range(A.shape[1]):\n",
    "        Y_prediction[0, i] = 1 if A[0, i] > 0.5 else 0\n",
    "        \n",
    "    return Y_prediction"
   ]
  },
  {
   "cell_type": "markdown",
   "metadata": {},
   "source": [
    "## Merge all functions into a model"
   ]
  },
  {
   "cell_type": "code",
   "execution_count": 256,
   "metadata": {},
   "outputs": [],
   "source": [
    "def Model (X,y,num_iterations,alpha):\n",
    "    \n",
    "   \n",
    "    # Split data\n",
    "    X_train, X_test, y_train, y_test = train_test_split(X, y, test_size=0.30, random_state=42)\n",
    "    \n",
    "    # Initialise params\n",
    "    w, b = initialize_params(X_train.shape[1])\n",
    "    \n",
    "    # Learn the parameters for the model by minimizing the cost \n",
    "    params, grads, costs = optimize(w,b,np.transpose(X_train),y_train,alpha,num_iterations ,print_cost=False)\n",
    "    \n",
    "    # Retrieve parameters w and b from dictionary \"parameters\"\n",
    "    w = params[\"w\"]\n",
    "    b = params[\"b\"]\n",
    "    \n",
    "          \n",
    "    \n",
    "    # Predict outputs\n",
    "    prediction_train = predict(w, b, np.transpose(X_train)) \n",
    "    prediction_test  = predict(w, b, np.transpose(X_test))\n",
    "    \n",
    "    # Evaluation \n",
    "\n",
    "    acc_train = accuracy_score(y_train.reshape(1,398), prediction_train)\n",
    "    acc_test = accuracy_score(y_test.reshape(1,171), prediction_test)\n",
    "    \n",
    "    print(\"train accuracy: {} %\".format(100 - np.mean(np.abs(prediction_train - y_train)) * 100))\n",
    "    print(\"test accuracy: {} %\".format(100 - np.mean(np.abs(prediction_test - y_test)) * 100))\n",
    "\n",
    "    \n",
    "    d = {\"costs\": costs,\n",
    "         \"Y_prediction_test\": prediction_test, \n",
    "         \"Y_prediction_train\" : prediction_train, \n",
    "         \"w\" : w, \n",
    "         \"b\" : b,\n",
    "         \"learning_rate\" : alpha,\n",
    "         \"num_iterations\": num_iterations}\n",
    "    \n",
    "    return d\n",
    "    \n",
    "    "
   ]
  },
  {
   "cell_type": "code",
   "execution_count": 259,
   "metadata": {},
   "outputs": [
    {
     "name": "stdout",
     "output_type": "stream",
     "text": [
      "train accuracy: 83.16582914572865 %\n",
      "test accuracy: 83.04093567251462 %\n"
     ]
    }
   ],
   "source": [
    "d = Model(X,y,2000,0.01)"
   ]
  },
  {
   "cell_type": "code",
   "execution_count": 260,
   "metadata": {},
   "outputs": [
    {
     "data": {
      "image/png": "[encoded data removed]",
      "text/plain": [
       "<Figure size 432x288 with 1 Axes>"
      ]
     },
     "metadata": {
      "needs_background": "light"
     },
     "output_type": "display_data"
    }
   ],
   "source": [
    "# Plot learning curve (with costs)\n",
    "costs = np.squeeze(d['costs'])\n",
    "plt.plot(costs)\n",
    "plt.ylabel('cost')\n",
    "plt.xlabel('iterations (per hundreds)')\n",
    "plt.title(\"Learning rate =\" + str(d[\"learning_rate\"]))\n",
    "plt.show()"
   ]
  },
  {
   "cell_type": "code",
   "execution_count": 269,
   "metadata": {},
   "outputs": [
    {
     "data": {
      "text/plain": [
       "(1,)"
      ]
     },
     "execution_count": 269,
     "metadata": {},
     "output_type": "execute_result"
    }
   ],
   "source": []
  },
  {
   "cell_type": "code",
   "execution_count": 272,
   "metadata": {},
   "outputs": [],
   "source": [
    "# On prediction \n",
    "p = predict(d['w'],d['b'],X[0].reshape(1,1))\n",
    "if p == 0:\n",
    "    print(\"benign\")\n",
    "else:\n",
    "    print(\"malignant\")"
   ]
  },
  {
   "cell_type": "code",
   "execution_count": null,
   "metadata": {},
   "outputs": [],
   "source": []
  }
 ],
 "metadata": {
  "kernelspec": {
   "display_name": "Python 3",
   "language": "python",
   "name": "python3"
  },
  "language_info": {
   "codemirror_mode": {
    "name": "ipython",
    "version": 3
   },
   "file_extension": ".py",
   "mimetype": "text/x-python",
   "name": "python",
   "nbconvert_exporter": "python",
   "pygments_lexer": "ipython3",
   "version": "3.7.4"
  }
 },
 "nbformat": 4,
 "nbformat_minor": 2
}
