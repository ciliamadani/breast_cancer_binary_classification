{
 "cells": [
  {
   "cell_type": "code",
   "execution_count": 169,
   "metadata": {},
   "outputs": [],
   "source": [
    "import numpy as np\n",
    "import matplotlib.pyplot as plt\n",
    "from sklearn.metrics import accuracy_score\n",
    "%matplotlib inline"
   ]
  },
  {
   "cell_type": "markdown",
   "metadata": {},
   "source": [
    "## Overview of the problem set "
   ]
  },
  {
   "cell_type": "code",
   "execution_count": 30,
   "metadata": {},
   "outputs": [],
   "source": [
    "from sklearn.datasets import load_breast_cancer\n",
    "data = load_breast_cancer()"
   ]
  },
  {
   "cell_type": "code",
   "execution_count": 171,
   "metadata": {},
   "outputs": [
    {
     "data": {
      "text/plain": [
       "array(['mean radius', 'mean texture', 'mean perimeter', 'mean area',\n",
       "       'mean smoothness', 'mean compactness', 'mean concavity',\n",
       "       'mean concave points', 'mean symmetry', 'mean fractal dimension',\n",
       "       'radius error', 'texture error', 'perimeter error', 'area error',\n",
       "       'smoothness error', 'compactness error', 'concavity error',\n",
       "       'concave points error', 'symmetry error',\n",
       "       'fractal dimension error', 'worst radius', 'worst texture',\n",
       "       'worst perimeter', 'worst area', 'worst smoothness',\n",
       "       'worst compactness', 'worst concavity', 'worst concave points',\n",
       "       'worst symmetry', 'worst fractal dimension'], dtype='<U23')"
      ]
     },
     "execution_count": 171,
     "metadata": {},
     "output_type": "execute_result"
    }
   ],
   "source": [
    "data.feature_names"
   ]
  },
  {
   "cell_type": "code",
   "execution_count": 172,
   "metadata": {},
   "outputs": [
    {
     "data": {
      "text/plain": [
       "array(['malignant', 'benign'], dtype='<U9')"
      ]
     },
     "execution_count": 172,
     "metadata": {},
     "output_type": "execute_result"
    }
   ],
   "source": [
    "data.target_names"
   ]
  },
  {
   "cell_type": "code",
   "execution_count": 173,
   "metadata": {},
   "outputs": [
    {
     "data": {
      "text/plain": [
       "(569, 30)"
      ]
     },
     "execution_count": 173,
     "metadata": {},
     "output_type": "execute_result"
    }
   ],
   "source": [
    "data.data.shape"
   ]
  },
  {
   "cell_type": "code",
   "execution_count": 174,
   "metadata": {},
   "outputs": [
    {
     "data": {
      "text/plain": [
       "array([17.99 , 20.57 , 19.69 , 11.42 , 20.29 , 12.45 , 18.25 , 13.71 ,\n",
       "       13.   , 12.46 , 16.02 , 15.78 , 19.17 , 15.85 , 13.73 , 14.54 ,\n",
       "       14.68 , 16.13 , 19.81 , 13.54 , 13.08 ,  9.504, 15.34 , 21.16 ,\n",
       "       16.65 , 17.14 , 14.58 , 18.61 , 15.3  , 17.57 , 18.63 , 11.84 ,\n",
       "       17.02 , 19.27 , 16.13 , 16.74 , 14.25 , 13.03 , 14.99 , 13.48 ,\n",
       "       13.44 , 10.95 , 19.07 , 13.28 , 13.17 , 18.65 ,  8.196, 13.17 ,\n",
       "       12.05 , 13.49 , 11.76 , 13.64 , 11.94 , 18.22 , 15.1  , 11.52 ,\n",
       "       19.21 , 14.71 , 13.05 ,  8.618, 10.17 ,  8.598, 14.25 ,  9.173,\n",
       "       12.68 , 14.78 ,  9.465, 11.31 ,  9.029, 12.78 , 18.94 ,  8.888,\n",
       "       17.2  , 13.8  , 12.31 , 16.07 , 13.53 , 18.05 , 20.18 , 12.86 ,\n",
       "       11.45 , 13.34 , 25.22 , 19.1  , 12.   , 18.46 , 14.48 , 19.02 ,\n",
       "       12.36 , 14.64 , 14.62 , 15.37 , 13.27 , 13.45 , 15.06 , 20.26 ,\n",
       "       12.18 ,  9.787, 11.6  , 14.42 , 13.61 ,  6.981, 12.18 ,  9.876,\n",
       "       10.49 , 13.11 , 11.64 , 12.36 , 22.27 , 11.34 ,  9.777, 12.63 ,\n",
       "       14.26 , 10.51 ,  8.726, 11.93 ,  8.95 , 14.87 , 15.78 , 17.95 ,\n",
       "       11.41 , 18.66 , 24.25 , 14.5  , 13.37 , 13.85 , 13.61 , 19.   ,\n",
       "       15.1  , 19.79 , 12.19 , 15.46 , 16.16 , 15.71 , 18.45 , 12.77 ,\n",
       "       11.71 , 11.43 , 14.95 , 11.28 ,  9.738, 16.11 , 11.43 , 12.9  ,\n",
       "       10.75 , 11.9  , 11.8  , 14.95 , 14.44 , 13.74 , 13.   ,  8.219,\n",
       "        9.731, 11.15 , 13.15 , 12.25 , 17.68 , 16.84 , 12.06 , 10.9  ,\n",
       "       11.75 , 19.19 , 19.59 , 12.34 , 23.27 , 14.97 , 10.8  , 16.78 ,\n",
       "       17.47 , 14.97 , 12.32 , 13.43 , 15.46 , 11.08 , 10.66 ,  8.671,\n",
       "        9.904, 16.46 , 13.01 , 12.81 , 27.22 , 21.09 , 15.7  , 11.41 ,\n",
       "       15.28 , 10.08 , 18.31 , 11.71 , 11.81 , 12.3  , 14.22 , 12.77 ,\n",
       "        9.72 , 12.34 , 14.86 , 12.91 , 13.77 , 18.08 , 19.18 , 14.45 ,\n",
       "       12.23 , 17.54 , 23.29 , 13.81 , 12.47 , 15.12 ,  9.876, 17.01 ,\n",
       "       13.11 , 15.27 , 20.58 , 11.84 , 28.11 , 17.42 , 14.19 , 13.86 ,\n",
       "       11.89 , 10.2  , 19.8  , 19.53 , 13.65 , 13.56 , 10.18 , 15.75 ,\n",
       "       13.27 , 14.34 , 10.44 , 15.   , 12.62 , 12.83 , 17.05 , 11.32 ,\n",
       "       11.22 , 20.51 ,  9.567, 14.03 , 23.21 , 20.48 , 14.22 , 17.46 ,\n",
       "       13.64 , 12.42 , 11.3  , 13.75 , 19.4  , 10.48 , 13.2  , 12.89 ,\n",
       "       10.65 , 11.52 , 20.94 , 11.5  , 19.73 , 17.3  , 19.45 , 13.96 ,\n",
       "       19.55 , 15.32 , 15.66 , 15.53 , 20.31 , 17.35 , 17.29 , 15.61 ,\n",
       "       17.19 , 20.73 , 10.6  , 13.59 , 12.87 , 10.71 , 14.29 , 11.29 ,\n",
       "       21.75 ,  9.742, 17.93 , 11.89 , 11.33 , 18.81 , 13.59 , 13.85 ,\n",
       "       19.16 , 11.74 , 19.4  , 16.24 , 12.89 , 12.58 , 11.94 , 12.89 ,\n",
       "       11.26 , 11.37 , 14.41 , 14.96 , 12.95 , 11.85 , 12.72 , 13.77 ,\n",
       "       10.91 , 11.76 , 14.26 , 10.51 , 19.53 , 12.46 , 20.09 , 10.49 ,\n",
       "       11.46 , 11.6  , 13.2  ,  9.   , 13.5  , 13.05 , 11.7  , 14.61 ,\n",
       "       12.76 , 11.54 ,  8.597, 12.49 , 12.18 , 18.22 ,  9.042, 12.43 ,\n",
       "       10.25 , 20.16 , 12.86 , 20.34 , 12.2  , 12.67 , 14.11 , 12.03 ,\n",
       "       16.27 , 16.26 , 16.03 , 12.98 , 11.22 , 11.25 , 12.3  , 17.06 ,\n",
       "       12.99 , 18.77 , 10.05 , 23.51 , 14.42 ,  9.606, 11.06 , 19.68 ,\n",
       "       11.71 , 10.26 , 12.06 , 14.76 , 11.47 , 11.95 , 11.66 , 15.75 ,\n",
       "       25.73 , 15.08 , 11.14 , 12.56 , 13.05 , 13.87 ,  8.878,  9.436,\n",
       "       12.54 , 13.3  , 12.76 , 16.5  , 13.4  , 20.44 , 20.2  , 12.21 ,\n",
       "       21.71 , 22.01 , 16.35 , 15.19 , 21.37 , 20.64 , 13.69 , 16.17 ,\n",
       "       10.57 , 13.46 , 13.66 , 11.08 , 11.27 , 11.04 , 12.05 , 12.39 ,\n",
       "       13.28 , 14.6  , 12.21 , 13.88 , 11.27 , 19.55 , 10.26 ,  8.734,\n",
       "       15.49 , 21.61 , 12.1  , 14.06 , 13.51 , 12.8  , 11.06 , 11.8  ,\n",
       "       17.91 , 11.93 , 12.96 , 12.94 , 12.34 , 10.94 , 16.14 , 12.85 ,\n",
       "       17.99 , 12.27 , 11.36 , 11.04 ,  9.397, 14.99 , 15.13 , 11.89 ,\n",
       "        9.405, 15.5  , 12.7  , 11.16 , 11.57 , 14.69 , 11.61 , 13.66 ,\n",
       "        9.742, 10.03 , 10.48 , 10.8  , 11.13 , 12.72 , 14.9  , 12.4  ,\n",
       "       20.18 , 18.82 , 14.86 , 13.98 , 12.87 , 14.04 , 13.85 , 14.02 ,\n",
       "       10.97 , 17.27 , 13.78 , 10.57 , 18.03 , 11.99 , 17.75 , 14.8  ,\n",
       "       14.53 , 21.1  , 11.87 , 19.59 , 12.   , 14.53 , 12.62 , 13.38 ,\n",
       "       11.63 , 13.21 , 13.   ,  9.755, 17.08 , 27.42 , 14.4  , 11.6  ,\n",
       "       13.17 , 13.24 , 13.14 ,  9.668, 17.6  , 11.62 ,  9.667, 12.04 ,\n",
       "       14.92 , 12.27 , 10.88 , 12.83 , 14.2  , 13.9  , 11.49 , 16.25 ,\n",
       "       12.16 , 13.9  , 13.47 , 13.7  , 15.73 , 12.45 , 14.64 , 19.44 ,\n",
       "       11.68 , 16.69 , 12.25 , 17.85 , 18.01 , 12.46 , 13.16 , 14.87 ,\n",
       "       12.65 , 12.47 , 18.49 , 20.59 , 15.04 , 13.82 , 12.54 , 23.09 ,\n",
       "        9.268,  9.676, 12.22 , 11.06 , 16.3  , 15.46 , 11.74 , 14.81 ,\n",
       "       13.4  , 14.58 , 15.05 , 11.34 , 18.31 , 19.89 , 12.88 , 12.75 ,\n",
       "        9.295, 24.63 , 11.26 , 13.71 ,  9.847,  8.571, 13.46 , 12.34 ,\n",
       "       13.94 , 12.07 , 11.75 , 11.67 , 13.68 , 20.47 , 10.96 , 20.55 ,\n",
       "       14.27 , 11.69 ,  7.729,  7.691, 11.54 , 14.47 , 14.74 , 13.21 ,\n",
       "       13.87 , 13.62 , 10.32 , 10.26 ,  9.683, 10.82 , 10.86 , 11.13 ,\n",
       "       12.77 ,  9.333, 12.88 , 10.29 , 10.16 ,  9.423, 14.59 , 11.51 ,\n",
       "       14.05 , 11.2  , 15.22 , 20.92 , 21.56 , 20.13 , 16.6  , 20.6  ,\n",
       "        7.76 ])"
      ]
     },
     "execution_count": 174,
     "metadata": {},
     "output_type": "execute_result"
    }
   ],
   "source": [
    "data.data[ : ,0]"
   ]
  },
  {
   "cell_type": "markdown",
   "metadata": {},
   "source": [
    "## Normalizaton of features"
   ]
  },
  {
   "cell_type": "raw",
   "metadata": {},
   "source": [
    "def normalize_feat(feat_vect):\n",
    "    mean = np.sum(feat_vect, axis=0)\n",
    "    feat_vect = ( feat_vect - mean ) / (max(feat_vect) - min(feat_vect))\n",
    "    \n",
    "    return feat_vect"
   ]
  },
  {
   "cell_type": "raw",
   "metadata": {},
   "source": [
    "# Test: Normalize the fisrt feature vector \n",
    "normalized_vect = normalize_feat(data.data[ : ,0])"
   ]
  },
  {
   "cell_type": "raw",
   "metadata": {},
   "source": [
    "# Nomalize all features \n",
    "for i in range(len(data.feature_names)):\n",
    "    data.data[ : ,i] = normalize_feat(data.data[ : ,i])\n",
    "    "
   ]
  },
  {
   "cell_type": "code",
   "execution_count": 177,
   "metadata": {},
   "outputs": [
    {
     "name": "stdout",
     "output_type": "stream",
     "text": [
      "(3, 569)\n",
      "(1, 569)\n"
     ]
    }
   ],
   "source": [
    "X = np.array([data.data[ : ,0],data.data[: ,1],data.data[: ,2]])\n",
    "X = X.reshape(3,569)\n",
    "print(X.shape)\n",
    "y = data.target.reshape(1,569)\n",
    "print(y.shape)"
   ]
  },
  {
   "cell_type": "markdown",
   "metadata": {},
   "source": [
    "## General Architecture of the learning algorithm"
   ]
  },
  {
   "cell_type": "markdown",
   "metadata": {},
   "source": [
    "A Logistic Regression, using a Neural Network mindset.\n",
    "\n",
    "For one example $x^{(i)}$: $$z^{(i)} = w^T x^{(i)} + b \\tag{1}$$ $$\\hat{y}^{(i)} = a^{(i)} = sigmoid(z^{(i)})\\tag{2}$$ $$ \\mathcal{L}(a^{(i)}, y^{(i)}) = - y^{(i)} \\log(a^{(i)}) - (1-y^{(i)} ) \\log(1-a^{(i)})\\$$\n",
    "\n",
    "The cost is then computed by summing over all training examples: \n",
    "$$ J = \\frac{1}{m} \\sum_{i=1}^m \\mathcal{L}(a^{(i)}, y^{(i)})\\$$\n",
    "\n",
    "Key steps:\n",
    "\n",
    "- Initialize the parameters of the model\n",
    "- Learn the parameters for the model by minimizing the cost  \n",
    "- Use the learned parameters to make predictions (on the test set)\n",
    "- Analyse the results and conclude\n",
    "\n",
    "The main steps for building a Neural Network:\n",
    "\n",
    "- Define the model structure (such as number of input features)\n",
    "- Initialize the model's parameters\n",
    "- Loop:\n",
    "        * Calculate current loss (forward propagation)\n",
    "        * Calculate current gradient (backward propagation)\n",
    "        * Update parameters (gradient descent)\n"
   ]
  },
  {
   "cell_type": "markdown",
   "metadata": {},
   "source": [
    "## Helper functions"
   ]
  },
  {
   "cell_type": "code",
   "execution_count": 178,
   "metadata": {},
   "outputs": [],
   "source": [
    "def sigmoid(z):\n",
    "    sig = 1 / (1 + np.exp(-z))\n",
    "    return sig"
   ]
  },
  {
   "cell_type": "code",
   "execution_count": 179,
   "metadata": {},
   "outputs": [],
   "source": [
    "def initialize_params(dim):\n",
    "    \n",
    "    w = np.zeros((dim,1))\n",
    "    b = 0\n",
    "    \n",
    "    assert(isinstance(b, float) or isinstance(b, int))\n",
    "    return w,b"
   ]
  },
  {
   "cell_type": "code",
   "execution_count": 180,
   "metadata": {},
   "outputs": [],
   "source": [
    "def propagate(X,y,w,b):\n",
    "    \n",
    "    # forward prop\n",
    "    m = X.shape[1]\n",
    "    # calculate the estimated output with the params \n",
    "    Z = np.dot(w.T,X) + b \n",
    "    # calculate the activation output \n",
    "    A = sigmoid(Z) \n",
    "    epsilon = 0.001\n",
    "    \n",
    "    #print(w.shape)\n",
    "    \n",
    "    \n",
    "\n",
    "    # calculate the cost function \n",
    "    cost = (-1/m)* np.dot(y*np.log(A)+(1-y)*np.log(1-A), np.ones((m,1)))  # compute cost\n",
    "    ### END CODE HERE ###\n",
    "   \n",
    "    \n",
    "    # backward prop\n",
    "    dw = (1/m) * np.dot(X,(A-y).T)\n",
    "    db = (1/m) * np.dot(A-y, np.ones((m,1)))\n",
    "\n",
    "    assert(db.dtype == float)\n",
    "    cost = np.squeeze(cost)\n",
    "    grads = {\n",
    "     'dw' : dw,\n",
    "     'db' : db\n",
    "    }\n",
    "    \n",
    "    return grads,cost"
   ]
  },
  {
   "cell_type": "code",
   "execution_count": 181,
   "metadata": {},
   "outputs": [],
   "source": [
    "def optimize(w,b,X,y,alpha,num_iterations ,print_cost=True):\n",
    "    \n",
    "    costs = []\n",
    "    \n",
    "    for i in range(num_iterations):\n",
    "        \n",
    "        grads, cost = propagate(X,y,w,b)\n",
    "        \n",
    "        dw = grads[\"dw\"]\n",
    "        db = grads[\"db\"]\n",
    "        \n",
    "\n",
    "        w = w - alpha * dw\n",
    "        b = b - alpha * db\n",
    "        \n",
    "        if i % 100 == 0:\n",
    "            costs.append(cost)\n",
    "            \n",
    "    \n",
    "    params = {\n",
    "    'w' : w, \n",
    "    'b' : b\n",
    "    }\n",
    "    \n",
    "    gards = {\n",
    "    'dw' : dw,\n",
    "    'db' : db\n",
    "    }\n",
    "    \n",
    "    return params, grads, costs\n",
    "    "
   ]
  },
  {
   "cell_type": "code",
   "execution_count": 182,
   "metadata": {},
   "outputs": [],
   "source": [
    "def predict(w,b,X):\n",
    "    \n",
    "    m = X.shape[1]\n",
    "    Y_prediction = np.zeros((1, m))    \n",
    "    A = sigmoid(np.dot(w.T, X) + b)\n",
    "    \n",
    "    for i in range(A.shape[1]):\n",
    "        Y_prediction[0, i] = 1 if A[0, i] > 0.5 else 0\n",
    "        \n",
    "    return Y_prediction"
   ]
  },
  {
   "cell_type": "markdown",
   "metadata": {},
   "source": [
    "## Merge all functions into a model"
   ]
  },
  {
   "cell_type": "code",
   "execution_count": 183,
   "metadata": {},
   "outputs": [
    {
     "data": {
      "text/plain": [
       "(3, 569)"
      ]
     },
     "execution_count": 183,
     "metadata": {},
     "output_type": "execute_result"
    }
   ],
   "source": [
    "X.shape"
   ]
  },
  {
   "cell_type": "code",
   "execution_count": 184,
   "metadata": {},
   "outputs": [],
   "source": [
    "X_train = X[0:3, 0:398  ]\n",
    "y_train = y[0:1, 0: 398 ]\n",
    "\n",
    "X_test =  X[0:3, 398: ]\n",
    "y_test =  y[0:1, 398: ]"
   ]
  },
  {
   "cell_type": "code",
   "execution_count": 185,
   "metadata": {},
   "outputs": [
    {
     "name": "stdout",
     "output_type": "stream",
     "text": [
      "(3, 171)\n"
     ]
    }
   ],
   "source": [
    "print(X_test.shape)"
   ]
  },
  {
   "cell_type": "code",
   "execution_count": 186,
   "metadata": {},
   "outputs": [],
   "source": [
    "def Model (X,y,num_iterations,alpha):\n",
    "    \n",
    "   \n",
    "    # Split data\n",
    "    #X_train, X_test, y_train, y_test = train_test_split(X, y, test_size=0.30, random_state=42)\n",
    "    \n",
    "    # Initialise params\n",
    "    w, b = initialize_params(X_train.shape[0])\n",
    "    print(w.shape)\n",
    "    \n",
    "    # Learn the parameters for the model by minimizing the cost \n",
    "    params, grads, costs = optimize(w,b,X_train,y_train,alpha,num_iterations ,print_cost=False)\n",
    "    \n",
    "    # Retrieve parameters w and b from dictionary \"parameters\"\n",
    "    w = params[\"w\"]\n",
    "    b = params[\"b\"]\n",
    "    \n",
    "          \n",
    "    \n",
    "    # Predict outputs\n",
    "    prediction_train = predict(w, b, X_train) \n",
    "    prediction_test  = predict(w, b, X_test)\n",
    "    \n",
    "    # Evaluation \n",
    "\n",
    "    acc_train = accuracy_score(y_train.reshape(1,398), prediction_train)\n",
    "    acc_test = accuracy_score(y_test.reshape(1,171), prediction_test)\n",
    "    \n",
    "    print(\"train accuracy: {} %\".format(100 - np.mean(np.abs(prediction_train - y_train)) * 100))\n",
    "    print(\"test accuracy: {} %\".format(100 - np.mean(np.abs(prediction_test - y_test)) * 100))\n",
    "\n",
    "    \n",
    "    d = {\"costs\": costs,\n",
    "         \"Y_prediction_test\": prediction_test, \n",
    "         \"Y_prediction_train\" : prediction_train, \n",
    "         \"w\" : w, \n",
    "         \"b\" : b,\n",
    "         \"learning_rate\" : alpha,\n",
    "         \"num_iterations\": num_iterations}\n",
    "    \n",
    "    return d\n",
    "    \n",
    "    "
   ]
  },
  {
   "cell_type": "code",
   "execution_count": 193,
   "metadata": {},
   "outputs": [
    {
     "name": "stdout",
     "output_type": "stream",
     "text": [
      "(3, 1)\n"
     ]
    },
    {
     "name": "stderr",
     "output_type": "stream",
     "text": [
      "/home/cilia/anaconda3/lib/python3.7/site-packages/ipykernel_launcher.py:16: RuntimeWarning: divide by zero encountered in log\n",
      "  app.launch_new_instance()\n",
      "/home/cilia/anaconda3/lib/python3.7/site-packages/ipykernel_launcher.py:16: RuntimeWarning: invalid value encountered in multiply\n",
      "  app.launch_new_instance()\n"
     ]
    },
    {
     "name": "stdout",
     "output_type": "stream",
     "text": [
      "train accuracy: 62.31155778894472 %\n",
      "test accuracy: 80.11695906432749 %\n"
     ]
    }
   ],
   "source": [
    "d = Model(X,y,4000,0.01)"
   ]
  },
  {
   "cell_type": "code",
   "execution_count": 194,
   "metadata": {},
   "outputs": [
    {
     "data": {
      "image/png": "[encoded data removed]",
      "text/plain": [
       "<Figure size 432x288 with 1 Axes>"
      ]
     },
     "metadata": {
      "needs_background": "light"
     },
     "output_type": "display_data"
    }
   ],
   "source": [
    "# Plot learning curve (with costs)\n",
    "costs = np.squeeze(d['costs'])\n",
    "plt.plot(costs)\n",
    "plt.ylabel('cost')\n",
    "plt.xlabel('iterations (per hundreds)')\n",
    "plt.title(\"Learning rate =\" + str(d[\"learning_rate\"]))\n",
    "plt.show()"
   ]
  },
  {
   "cell_type": "code",
   "execution_count": 196,
   "metadata": {},
   "outputs": [
    {
     "name": "stdout",
     "output_type": "stream",
     "text": [
      "benign\n"
     ]
    }
   ],
   "source": [
    "# One prediction \n",
    "p = predict(d['w'],d['b'],X[:, 0].reshape(3,1))\n",
    "if p == 0:\n",
    "    print(\"benign\")\n",
    "else:\n",
    "    print(\"malignant\")"
   ]
  },
  {
   "cell_type": "code",
   "execution_count": null,
   "metadata": {},
   "outputs": [],
   "source": []
  }
 ],
 "metadata": {
  "kernelspec": {
   "display_name": "Python 3",
   "language": "python",
   "name": "python3"
  },
  "language_info": {
   "codemirror_mode": {
    "name": "ipython",
    "version": 3
   },
   "file_extension": ".py",
   "mimetype": "text/x-python",
   "name": "python",
   "nbconvert_exporter": "python",
   "pygments_lexer": "ipython3",
   "version": "3.7.4"
  }
 },
 "nbformat": 4,
 "nbformat_minor": 2
}
